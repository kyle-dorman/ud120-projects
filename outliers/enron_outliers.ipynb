{
 "cells": [
  {
   "cell_type": "code",
   "execution_count": 12,
   "metadata": {
    "collapsed": true
   },
   "outputs": [],
   "source": [
    "import pickle\n",
    "import sys\n",
    "import matplotlib.pyplot\n",
    "sys.path.append(\"../tools/\")\n",
    "from feature_format import featureFormat, targetFeatureSplit\n",
    "\n",
    "\n",
    "### read in data dictionary, convert to numpy array\n",
    "data_dict = pickle.load( open(\"../final_project/final_project_dataset.pkl\", \"r\") )\n",
    "data_dict.pop('TOTAL', 0 )\n",
    "features = [\"salary\", \"bonus\"]\n",
    "data = featureFormat(data_dict, features)"
   ]
  },
  {
   "cell_type": "code",
   "execution_count": 13,
   "metadata": {
    "collapsed": false
   },
   "outputs": [
    {
     "data": {
      "image/png": "[encoded data removed]",
      "text/plain": [
       "<matplotlib.figure.Figure at 0x10fb96190>"
      ]
     },
     "metadata": {},
     "output_type": "display_data"
    }
   ],
   "source": [
    "for point in data:\n",
    "    salary = point[0]\n",
    "    bonus = point[1]\n",
    "    matplotlib.pyplot.scatter( salary, bonus )\n",
    "\n",
    "matplotlib.pyplot.xlabel(\"salary\")\n",
    "matplotlib.pyplot.ylabel(\"bonus\")\n",
    "matplotlib.pyplot.show()"
   ]
  },
  {
   "cell_type": "code",
   "execution_count": 10,
   "metadata": {
    "collapsed": false
   },
   "outputs": [
    {
     "data": {
      "text/plain": [
       "('TOTAL',\n",
       " {'bonus': 97343619,\n",
       "  'deferral_payments': 32083396,\n",
       "  'deferred_income': -27992891,\n",
       "  'director_fees': 1398517,\n",
       "  'email_address': 'NaN',\n",
       "  'exercised_stock_options': 311764000,\n",
       "  'expenses': 5235198,\n",
       "  'from_messages': 'NaN',\n",
       "  'from_poi_to_this_person': 'NaN',\n",
       "  'from_this_person_to_poi': 'NaN',\n",
       "  'loan_advances': 83925000,\n",
       "  'long_term_incentive': 48521928,\n",
       "  'other': 42667589,\n",
       "  'poi': False,\n",
       "  'restricted_stock': 130322299,\n",
       "  'restricted_stock_deferred': -7576788,\n",
       "  'salary': 26704229,\n",
       "  'shared_receipt_with_poi': 'NaN',\n",
       "  'to_messages': 'NaN',\n",
       "  'total_payments': 309886585,\n",
       "  'total_stock_value': 434509511})"
      ]
     },
     "execution_count": 10,
     "metadata": {},
     "output_type": "execute_result"
    }
   ],
   "source": [
    "name_person_salary_only = [name_person for name_person in data_dict.iteritems() if name_person[1][\"salary\"] != 'NaN']\n",
    "sorted(name_person_salary_only, key=lambda name_person: name_person[1][\"salary\"])[-1]"
   ]
  },
  {
   "cell_type": "code",
   "execution_count": 22,
   "metadata": {
    "collapsed": false
   },
   "outputs": [
    {
     "data": {
      "text/plain": [
       "{'LAY KENNETH L': {'bonus': 7000000,\n",
       "  'deferral_payments': 202911,\n",
       "  'deferred_income': -300000,\n",
       "  'director_fees': 'NaN',\n",
       "  'email_address': 'kenneth.lay@enron.com',\n",
       "  'exercised_stock_options': 34348384,\n",
       "  'expenses': 99832,\n",
       "  'from_messages': 36,\n",
       "  'from_poi_to_this_person': 123,\n",
       "  'from_this_person_to_poi': 16,\n",
       "  'loan_advances': 81525000,\n",
       "  'long_term_incentive': 3600000,\n",
       "  'other': 10359729,\n",
       "  'poi': True,\n",
       "  'restricted_stock': 14761694,\n",
       "  'restricted_stock_deferred': 'NaN',\n",
       "  'salary': 1072321,\n",
       "  'shared_receipt_with_poi': 2411,\n",
       "  'to_messages': 4273,\n",
       "  'total_payments': 103559793,\n",
       "  'total_stock_value': 49110078},\n",
       " 'SKILLING JEFFREY K': {'bonus': 5600000,\n",
       "  'deferral_payments': 'NaN',\n",
       "  'deferred_income': 'NaN',\n",
       "  'director_fees': 'NaN',\n",
       "  'email_address': 'jeff.skilling@enron.com',\n",
       "  'exercised_stock_options': 19250000,\n",
       "  'expenses': 29336,\n",
       "  'from_messages': 108,\n",
       "  'from_poi_to_this_person': 88,\n",
       "  'from_this_person_to_poi': 30,\n",
       "  'loan_advances': 'NaN',\n",
       "  'long_term_incentive': 1920000,\n",
       "  'other': 22122,\n",
       "  'poi': True,\n",
       "  'restricted_stock': 6843672,\n",
       "  'restricted_stock_deferred': 'NaN',\n",
       "  'salary': 1111258,\n",
       "  'shared_receipt_with_poi': 2042,\n",
       "  'to_messages': 3627,\n",
       "  'total_payments': 8682716,\n",
       "  'total_stock_value': 26093672}}"
      ]
     },
     "execution_count": 22,
     "metadata": {},
     "output_type": "execute_result"
    }
   ],
   "source": [
    "def filterNaN(dict, byKeys):\n",
    "    for key in byKeys:\n",
    "        dict = {k:v for k,v in dict.iteritems() if v[key] != 'NaN'}\n",
    "    return dict\n",
    "\n",
    "filtered_dict = filterNaN(data_dict, ['bonus', 'salary'])\n",
    "{ name:person for name,person in filtered_dict.iteritems() if person['salary'] > 1000000 and person['bonus'] > 5000000}"
   ]
  }
 ],
 "metadata": {
  "kernelspec": {
   "display_name": "Python [conda env:py27]",
   "language": "python",
   "name": "conda-env-py27-py"
  },
  "language_info": {
   "codemirror_mode": {
    "name": "ipython",
    "version": 2
   },
   "file_extension": ".py",
   "mimetype": "text/x-python",
   "name": "python",
   "nbconvert_exporter": "python",
   "pygments_lexer": "ipython2",
   "version": "2.7.12"
  }
 },
 "nbformat": 4,
 "nbformat_minor": 1
}
