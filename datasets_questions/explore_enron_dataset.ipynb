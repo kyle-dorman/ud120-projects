{
 "cells": [
  {
   "cell_type": "markdown",
   "metadata": {},
   "source": [
    "Starter code for exploring the Enron dataset (emails + finances);\n",
    "loads up the dataset (pickled dict of dicts).\n",
    "\n",
    "The dataset has the form:\n",
    "enron_data[\"LASTNAME FIRSTNAME MIDDLEINITIAL\"] = { features_dict }\n",
    "\n",
    "{features_dict} is a dictionary of features associated with that person.\n",
    "You should explore features_dict as part of the mini-project,\n",
    "but here's an example to get you started:\n",
    "\n",
    "enron_data[\"SKILLING JEFFREY K\"][\"bonus\"] = 5600000"
   ]
  },
  {
   "cell_type": "code",
   "execution_count": 2,
   "metadata": {
    "collapsed": true
   },
   "outputs": [],
   "source": [
    "import pickle\n",
    "\n",
    "enron_data = pickle.load(open(\"../final_project/final_project_dataset.pkl\", \"r\"))"
   ]
  },
  {
   "cell_type": "code",
   "execution_count": 3,
   "metadata": {
    "collapsed": false
   },
   "outputs": [
    {
     "data": {
      "text/plain": [
       "18"
      ]
     },
     "execution_count": 3,
     "metadata": {},
     "output_type": "execute_result"
    }
   ],
   "source": [
    "len(enron_data)\n",
    "len([person for person in enron_data.itervalues() if person['poi']])"
   ]
  },
  {
   "cell_type": "code",
   "execution_count": 4,
   "metadata": {
    "collapsed": false
   },
   "outputs": [
    {
     "name": "stdout",
     "output_type": "stream",
     "text": [
      "<open file '../final_project/poi_names.txt', mode 'r' at 0x106ad9390>\n"
     ]
    }
   ],
   "source": [
    "poi_names = open(\"../final_project/poi_names.txt\", \"r\")\n",
    "print poi_names"
   ]
  },
  {
   "cell_type": "code",
   "execution_count": 36,
   "metadata": {
    "collapsed": false
   },
   "outputs": [
    {
     "data": {
      "text/plain": [
       "['LAY KENNETH',\n",
       " 'SKILLING JEFFREY',\n",
       " 'HOWARD KEVIN',\n",
       " 'KRAUTZ MICHAEL',\n",
       " 'YEAGER SCOTT',\n",
       " 'HIRKO JOSEPH',\n",
       " 'SHELBY REX',\n",
       " 'BERMINGHAM DAVID',\n",
       " 'DARBY GILES',\n",
       " 'MULGREW GARY',\n",
       " 'BAYLEY DANIEL',\n",
       " 'BROWN JAMES',\n",
       " 'FURST ROBERT',\n",
       " 'FUHS WILLIAM',\n",
       " 'CAUSEY RICHARD',\n",
       " 'CALGER CHRISTOPHER',\n",
       " 'DESPAIN TIMOTHY',\n",
       " 'HANNON KEVIN',\n",
       " 'KOENIG MARK',\n",
       " 'FORNEY JOHN',\n",
       " 'RICE KENNETH',\n",
       " 'RIEKER PAULA',\n",
       " 'FASTOW LEA',\n",
       " 'FASTOW ANDREW',\n",
       " 'DELAINEY DAVID',\n",
       " 'GLISAN BEN',\n",
       " 'RICHTER JEFFREY',\n",
       " 'LAWYER LARRY',\n",
       " 'BELDEN TIMOTHY',\n",
       " 'KOPPER MICHAEL',\n",
       " 'DUNCAN DAVID',\n",
       " 'BOWEN RAYMOND',\n",
       " 'COLWELL WESLEY',\n",
       " 'BOYLE DAN',\n",
       " 'LOEHR CHRISTOPHER']"
      ]
     },
     "execution_count": 36,
     "metadata": {},
     "output_type": "execute_result"
    }
   ],
   "source": [
    "poi = []\n",
    "with open(\"../final_project/poi_names.txt\", \"r\") as f:\n",
    "    for item in f:\n",
    "        if item[0] != '(': continue\n",
    "        items = item.strip().split(' ')\n",
    "        items.pop(0)\n",
    "        items = ''.join(items).split(',')\n",
    "        items = ' '.join(items)\n",
    "        items = items.upper()\n",
    "\n",
    "        poi.append(items)\n",
    "\n",
    "poi"
   ]
  },
  {
   "cell_type": "code",
   "execution_count": 41,
   "metadata": {
    "collapsed": false
   },
   "outputs": [
    {
     "data": {
      "text/plain": [
       "['HANNON KEVIN P', 'GARLAND C KEVIN']"
      ]
     },
     "execution_count": 41,
     "metadata": {},
     "output_type": "execute_result"
    }
   ],
   "source": [
    "def findPerson(firstName):\n",
    "    people = []\n",
    "    for person in enron_data.iterkeys():\n",
    "        if firstName.upper() in person:\n",
    "            people.append(person)\n",
    "    return people\n",
    "findPerson(\"KEVIN\")"
   ]
  },
  {
   "cell_type": "code",
   "execution_count": 46,
   "metadata": {
    "collapsed": false
   },
   "outputs": [
    {
     "data": {
      "text/plain": [
       "21"
      ]
     },
     "execution_count": 46,
     "metadata": {},
     "output_type": "execute_result"
    }
   ],
   "source": [
    " enron_data[\"LAY KENNETH L\"]\n",
    "# print enron_data[\"SKILLING JEFFREY K\"]['total_payments']\n",
    "# print enron_data[\"FASTOW ANDREW S\"]['total_payments']\n",
    "\n",
    "t = []\n",
    "\n",
    "for name in poi:\n",
    "    people = findPerson(name)\n",
    "    if len(people) == 0: \n",
    "#         print name, '-'\n",
    "        continue\n",
    "    person = people[0]\n",
    "    if enron_data[person]['total_payments'] == 'NaN':\n",
    "        t.append(name)\n",
    "\n",
    "# len([0 for person in poi if enron_data[findPerson(person)[0]]['total_payments'] == 'NaN'])\n",
    "b = len(enron_data)\n",
    "\n",
    "float(len(t))/b\n",
    "\n",
    "len(enron_data)\n",
    "\n",
    "len([0 for person in enron_data.itervalues() if person['total_payments'] == 'NaN'])\n",
    "    \n"
   ]
  },
  {
   "cell_type": "code",
   "execution_count": 47,
   "metadata": {
    "collapsed": false
   },
   "outputs": [
    {
     "data": {
      "text/plain": [
       "{'bonus': 7000000,\n",
       " 'deferral_payments': 202911,\n",
       " 'deferred_income': -300000,\n",
       " 'director_fees': 'NaN',\n",
       " 'email_address': 'kenneth.lay@enron.com',\n",
       " 'exercised_stock_options': 34348384,\n",
       " 'expenses': 99832,\n",
       " 'from_messages': 36,\n",
       " 'from_poi_to_this_person': 123,\n",
       " 'from_this_person_to_poi': 16,\n",
       " 'loan_advances': 81525000,\n",
       " 'long_term_incentive': 3600000,\n",
       " 'other': 10359729,\n",
       " 'poi': True,\n",
       " 'restricted_stock': 14761694,\n",
       " 'restricted_stock_deferred': 'NaN',\n",
       " 'salary': 1072321,\n",
       " 'shared_receipt_with_poi': 2411,\n",
       " 'to_messages': 4273,\n",
       " 'total_payments': 103559793,\n",
       " 'total_stock_value': 49110078}"
      ]
     },
     "execution_count": 47,
     "metadata": {},
     "output_type": "execute_result"
    }
   ],
   "source": [
    " enron_data[\"LAY KENNETH L\"]"
   ]
  }
 ],
 "metadata": {
  "anaconda-cloud": {},
  "kernelspec": {
   "display_name": "Python [conda env:py27]",
   "language": "python",
   "name": "conda-env-py27-py"
  },
  "language_info": {
   "codemirror_mode": {
    "name": "ipython",
    "version": 2
   },
   "file_extension": ".py",
   "mimetype": "text/x-python",
   "name": "python",
   "nbconvert_exporter": "python",
   "pygments_lexer": "ipython2",
   "version": "2.7.12"
  }
 },
 "nbformat": 4,
 "nbformat_minor": 1
}
